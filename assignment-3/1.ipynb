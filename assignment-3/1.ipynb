{
 "cells": [
  {
   "cell_type": "markdown",
   "metadata": {},
   "source": [
    "## **Assignment 3 - Main Chain Modelling**\n",
    "### **Hugo Manuel Alves Henriques e Silva, hugoalv@student.chalmers.se**\n",
    "\n",
    "#### **How to run:**\n",
    "`Run the cells below in order. Make sure to have the datasets in the same folder as the notebook.`"
   ]
  },
  {
   "cell_type": "markdown",
   "metadata": {},
   "source": [
    "## **Question 1**"
   ]
  },
  {
   "cell_type": "markdown",
   "metadata": {},
   "source": [
    "### **Create Data**"
   ]
  },
  {
   "cell_type": "code",
   "execution_count": 30,
   "metadata": {},
   "outputs": [],
   "source": [
    "import math\n",
    "\n",
    "def create_data(filename):\n",
    "    data = {}\n",
    "    with open(filename) as f:\n",
    "        line = f.readline()\n",
    "        counter = 1\n",
    "        while line:\n",
    "            line = line.strip()\n",
    "            line = line.split(' ')\n",
    "            data[counter] = [line[i] for i in range(0, len(line))]\n",
    "            line = f.readline()\n",
    "            counter += 1\n",
    "            \n",
    "    for key in data:\n",
    "        #move \\t and everything before it from string of element data[key][0]\n",
    "        data[key][0] = data[key][0].split('\\t')[1]\n",
    "        #convert string to float\n",
    "        for i in range(0, len(data[key])):\n",
    "            data[key][i] = float(data[key][i])\n",
    "\n",
    "    return data"
   ]
  },
  {
   "cell_type": "markdown",
   "metadata": {},
   "source": [
    "### **Create and fill distance matrix with data**"
   ]
  },
  {
   "cell_type": "code",
   "execution_count": 31,
   "metadata": {},
   "outputs": [],
   "source": [
    "def create_distance_matrix(len):\n",
    "    dist_matrix = []\n",
    "    for i in range(0, len):\n",
    "        row = []\n",
    "        for j in range(0, len):\n",
    "            row.append(0)\n",
    "        dist_matrix.append(row)\n",
    "    return dist_matrix\n",
    "\n",
    "def fill_distance_matrix(dist_matrix, data):\n",
    "    for i in range(0, len(data)):\n",
    "        for j in range(0, len(data)):\n",
    "            if i != j:\n",
    "                dist_matrix[i][j] = round(math.sqrt((data[i+1][0] - data[j+1][0])**2\n",
    "                                                    + (data[i+1][1] - data[j+1][1])**2\n",
    "                                                    + (data[i+1][2] - data[j+1][2])**2), 2)"
   ]
  },
  {
   "cell_type": "markdown",
   "metadata": {},
   "source": [
    "### **Build Chain Algorithm**\n",
    "\n",
    "Receives the distance matrix, the current chain, the current point, the atoms that are left to visit and the direction it goes in.\n",
    "\n",
    "Searches for a point that is within a distance of 3.8 Ångström from the current point and that has not been visited yet. If it finds one, it \n",
    "\n",
    "adds it to the chain and calls itself recursively with the new point as the current point. If it does not find one, it returns the chain."
   ]
  },
  {
   "cell_type": "code",
   "execution_count": 32,
   "metadata": {},
   "outputs": [],
   "source": [
    "def build_chain(dist_matrix, chain, node, to_visit, direction):\n",
    "    if len(chain) == 1:\n",
    "        to_visit.remove(node)\n",
    "    if len(to_visit) == 0:\n",
    "        return\n",
    "    else:\n",
    "        for i in range(0, len(dist_matrix)):\n",
    "            if (node == i):\n",
    "                continue\n",
    "            if abs(dist_matrix[node][i] - 3.8) <= 0.1 and i in to_visit:\n",
    "                if (node == 0 and direction == 'left'):\n",
    "                    direction = ''\n",
    "                    continue\n",
    "                chain.append(i+1)\n",
    "                to_visit.remove(i)\n",
    "                return build_chain(dist_matrix, chain, i, to_visit, '')"
   ]
  },
  {
   "cell_type": "markdown",
   "metadata": {},
   "source": [
    "### **Complete algorithm**\n",
    "\n",
    "This function servers as a main function. It builds the chains according to every single previously defined algorithms. It receives the file \n",
    "\n",
    "with the data and builds the left and right chains starting from the first atom it finds. Mashes the left and right chains together and prints\n",
    "\n",
    "the result."
   ]
  },
  {
   "cell_type": "code",
   "execution_count": 33,
   "metadata": {},
   "outputs": [
    {
     "name": "stdout",
     "output_type": "stream",
     "text": [
      "For file test_q1.txt the chain is: \n",
      "8\n",
      "10\n",
      "9\n",
      "7\n",
      "6\n",
      "5\n",
      "3\n",
      "1\n",
      "4\n",
      "2\n",
      "For file data_q1.txt the chain is: \n",
      "2\n",
      "1\n",
      "10\n",
      "5\n",
      "7\n",
      "6\n",
      "4\n",
      "3\n",
      "9\n",
      "8\n"
     ]
    }
   ],
   "source": [
    "\n",
    "def getChain(filename):\n",
    "\n",
    "    data = create_data(filename)\n",
    "                \n",
    "\n",
    "    dist_matrix = create_distance_matrix(len(data))\n",
    "\n",
    "    fill_distance_matrix(dist_matrix, data)\n",
    "                \n",
    "\n",
    "    left_chain = [1]\n",
    "    right_chain = [1]\n",
    "                \n",
    "\n",
    "    build_chain(dist_matrix, right_chain, 0, [i for i in range(0, len(dist_matrix))], 'left')\n",
    "\n",
    "    build_chain(dist_matrix, left_chain, 0, [i for i in range(0, len(dist_matrix))], 'right')\n",
    "\n",
    "    left_chain = left_chain[::-1]\n",
    "    chain = left_chain[0:len(left_chain)-1]+ right_chain\n",
    "\n",
    "    print(\"For file \" + filename + \" the chain is: \")\n",
    "\n",
    "    for i in range(0, len(chain)):\n",
    "        print(chain[i])\n",
    "\n",
    "\"\"\" FOR FILE test_q1.txt \"\"\"\n",
    "            \n",
    "getChain(\"test_q1.txt\")\n",
    "\n",
    "\"\"\" FOR FILE test_q2.txt \"\"\"\n",
    "\n",
    "getChain(\"data_q1.txt\")\n"
   ]
  }
 ],
 "metadata": {
  "kernelspec": {
   "display_name": "Python 3",
   "language": "python",
   "name": "python3"
  },
  "language_info": {
   "codemirror_mode": {
    "name": "ipython",
    "version": 3
   },
   "file_extension": ".py",
   "mimetype": "text/x-python",
   "name": "python",
   "nbconvert_exporter": "python",
   "pygments_lexer": "ipython3",
   "version": "3.11.4"
  }
 },
 "nbformat": 4,
 "nbformat_minor": 2
}
