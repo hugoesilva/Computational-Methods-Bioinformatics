{
 "cells": [
  {
   "cell_type": "markdown",
   "metadata": {},
   "source": [
    "## **Assignment 3 - Main Chain Modelling**\n",
    "### **Hugo Manuel Alves Henriques e Silva, hugoalv@student.chalmers.se**\n",
    "\n",
    "#### **How to run:**\n",
    "`Run the cells below in order. Make sure to have the datasets in the same folder as the notebook.`\n",
    "\n",
    "### **Question 2**"
   ]
  },
  {
   "cell_type": "markdown",
   "metadata": {},
   "source": [
    "### **Create the dataset**"
   ]
  },
  {
   "cell_type": "code",
   "execution_count": 55,
   "metadata": {},
   "outputs": [],
   "source": [
    "import math\n",
    "\n",
    "def create_data(filename):\n",
    "    data = {}\n",
    "    with open(filename) as f:\n",
    "        line = f.readline()\n",
    "        counter = 1\n",
    "        while line:\n",
    "            line = line.strip()\n",
    "            line = line.split(' ')\n",
    "            data[counter] = [line[i] for i in range(0, len(line))]\n",
    "            line = f.readline()\n",
    "            counter += 1\n",
    "            \n",
    "    for key in data:\n",
    "        #move \\t and everything before it from string of element data[key][0]\n",
    "        data[key][0] = data[key][0].split('\\t')[1]\n",
    "        #convert string to float\n",
    "        for i in range(0, len(data[key])):\n",
    "            data[key][i] = float(data[key][i])\n",
    "\n",
    "    return data"
   ]
  },
  {
   "cell_type": "markdown",
   "metadata": {},
   "source": [
    "### **Create a distance matrix and fill it with the distances between the points**"
   ]
  },
  {
   "cell_type": "code",
   "execution_count": 56,
   "metadata": {},
   "outputs": [],
   "source": [
    "def create_distance_matrix(len):\n",
    "    dist_matrix = []\n",
    "    for i in range(0, len):\n",
    "        row = []\n",
    "        for j in range(0, len):\n",
    "            row.append(0)\n",
    "        dist_matrix.append(row)\n",
    "    return dist_matrix\n",
    "\n",
    "def fill_distance_matrix(dist_matrix, data):\n",
    "    counter1 = 0\n",
    "    for key1 in data:\n",
    "        counter2 = 0\n",
    "        for key2 in data:\n",
    "            if key1 != key2:\n",
    "                dist_matrix[counter1][counter2] = round(math.sqrt((data[key1][0] - data[key2][0])**2\n",
    "                                                    + (data[key1][1] - data[key2][1])**2\n",
    "                                                    + (data[key1][2] - data[key2][2])**2), 2)\n",
    "            counter2 += 1\n",
    "        counter1 += 1"
   ]
  },
  {
   "cell_type": "markdown",
   "metadata": {},
   "source": [
    "### **Filter the alpha carbons by distance**\n",
    "\n",
    "Alpha carbons should have a distance of 3.8 Å plus or minus a certain tolerance. The tolerance is the `distance_threshold` variable."
   ]
  },
  {
   "cell_type": "code",
   "execution_count": 57,
   "metadata": {},
   "outputs": [],
   "source": [
    "distance_threshold = 0.12\n",
    "\n",
    "def first_filter_alpha_carbon_data(dist_matrix, data):\n",
    "    # keep only points that dist 3.8 +- distance_threshold from at least 1 other point\n",
    "    potential_alpha_C = {}\n",
    "    for key1 in data:\n",
    "        for key2 in data:\n",
    "            if key1 != key2:\n",
    "                if abs(dist_matrix[key1-1][key2-1] - 3.8) <= distance_threshold:\n",
    "                    if key1 in potential_alpha_C:\n",
    "                        potential_alpha_C[key1].append(key2)\n",
    "                    else:\n",
    "                        potential_alpha_C[key1] = [key2]\n",
    "    return potential_alpha_C"
   ]
  },
  {
   "cell_type": "markdown",
   "metadata": {},
   "source": [
    "### **Calculate the angle between 3 consecutive points**"
   ]
  },
  {
   "cell_type": "code",
   "execution_count": 58,
   "metadata": {},
   "outputs": [],
   "source": [
    "def calculate_angle_3_points(atom1, atom2, atom3, data):\n",
    "    vector_1_2 = [data[atom2][0] - data[atom1][0], data[atom2][1] - data[atom1][1], data[atom2][2] - data[atom1][2]]\n",
    "    vector_1_3 = [data[atom3][0] - data[atom1][0], data[atom3][1] - data[atom1][1], data[atom3][2] - data[atom1][2]]\n",
    "\n",
    "    norm_vector_1_2 = math.sqrt(vector_1_2[0]**2 + vector_1_2[1]**2 + vector_1_2[2]**2)\n",
    "    norm_vector_1_3 = math.sqrt(vector_1_3[0]**2 + vector_1_3[1]**2 + vector_1_3[2]**2)\n",
    "\n",
    "    angle = math.degrees(math.acos((vector_1_2[0]*vector_1_3[0] + vector_1_2[1]*vector_1_3[1] + vector_1_2[2]*vector_1_3[2])/(norm_vector_1_2*norm_vector_1_3)))\n",
    "\n",
    "    return [angle, atom2, atom3]"
   ]
  },
  {
   "cell_type": "markdown",
   "metadata": {},
   "source": [
    "### **Remove alpha carbons that only have connections to each other**"
   ]
  },
  {
   "cell_type": "code",
   "execution_count": 59,
   "metadata": {},
   "outputs": [],
   "source": [
    "def second_filter_alpha_carbons(potential_alpha_C):\n",
    "    \"\"\" \n",
    "     remove atoms that only have connections to each other.\n",
    "    \"\"\"\n",
    "    keys_to_remove = []\n",
    "    for key in potential_alpha_C:\n",
    "        if len(potential_alpha_C[key]) == 1:\n",
    "            connection = potential_alpha_C[key][0]\n",
    "            if len(potential_alpha_C[connection]) == 1:\n",
    "                # remove key from dict\n",
    "                keys_to_remove.append(key)\n",
    "                keys_to_remove.append(connection)\n",
    "\n",
    "    for key in keys_to_remove:\n",
    "        if key in potential_alpha_C:\n",
    "            del potential_alpha_C[key]"
   ]
  },
  {
   "cell_type": "markdown",
   "metadata": {},
   "source": [
    "### **Create a dictionary with the points, angles and connections**\n",
    "\n",
    "This dictionary has the following structure:\n",
    "\n",
    "`{point: [[angle_1, point1, point2], ..., [angle_n, point_x, point_y]}` where the angle is the angle between the vector point-point1 and the \n",
    "\n",
    "vector point-point2 for example.\n",
    "\n",
    "One single point may have several valid angle combinations."
   ]
  },
  {
   "cell_type": "code",
   "execution_count": 60,
   "metadata": {},
   "outputs": [],
   "source": [
    "def create_angle_dict(potential_alpha_C, data):\n",
    "    angles = {}\n",
    "    for key in potential_alpha_C:\n",
    "        angles[key] = []\n",
    "        for i in range(0, len(potential_alpha_C[key])):\n",
    "            for j in range(i, len(potential_alpha_C[key])):\n",
    "                if i != j:\n",
    "                    points_angle = calculate_angle_3_points(key, potential_alpha_C[key][i], potential_alpha_C[key][j], data)\n",
    "                    angles[key].append(points_angle)\n",
    "    return angles"
   ]
  },
  {
   "cell_type": "markdown",
   "metadata": {},
   "source": [
    "### **Filter points by angle**\n",
    "\n",
    "If the angle between 3 points is less than the threshold, that specific combination is removed from the dictionary."
   ]
  },
  {
   "cell_type": "code",
   "execution_count": 61,
   "metadata": {},
   "outputs": [],
   "source": [
    "pseudo_valence_angle_bottom = 60\n",
    "\n",
    "def first_filter_angles(angles):\n",
    "    \"\"\" \n",
    "    removes angle combinations that have an angle that is not in the range of degrees\n",
    "    \"\"\"\n",
    "    for key in angles:\n",
    "        combinations_to_remove = []\n",
    "        for combination in angles[key]:\n",
    "            if (combination[0] < pseudo_valence_angle_bottom):\n",
    "                combinations_to_remove.append(combination)\n",
    "        for combination in combinations_to_remove:\n",
    "            angles[key].remove(combination)\n",
    "\n",
    "\n",
    "def remove_empty_angles(angles):\n",
    "    angles_to_remove = []\n",
    "\n",
    "    for key in angles:\n",
    "        if angles[key] == []:\n",
    "            angles_to_remove.append(key)\n",
    "            continue\n",
    "\n",
    "    for key in angles_to_remove:\n",
    "        if key in angles:\n",
    "            del angles[key]"
   ]
  },
  {
   "cell_type": "markdown",
   "metadata": {},
   "source": [
    "### **Second filter by angle**\n",
    "\n",
    "The combinations of each point that contain other points that have been removed are also removed."
   ]
  },
  {
   "cell_type": "code",
   "execution_count": 62,
   "metadata": {},
   "outputs": [],
   "source": [
    "def second_filter_angles(angles):\n",
    "    \"\"\" \n",
    "        removes angle combinations that have a point that is not in the angles dict\n",
    "        if an angle has no combinations, remove it from the dict\n",
    "    \"\"\"\n",
    "    pre_angles = []\n",
    "\n",
    "    while pre_angles != angles:\n",
    "\n",
    "        angles_to_remove = []\n",
    "\n",
    "        for key in angles:\n",
    "            combinations_to_remove = []\n",
    "            for combination in angles[key]:\n",
    "                if combination[1] not in angles or combination[2] not in angles:\n",
    "                    combinations_to_remove.append(combination)\n",
    "            for combination in combinations_to_remove:\n",
    "                angles[key].remove(combination)\n",
    "            if angles[key] == []:\n",
    "                angles_to_remove.append(key)\n",
    "\n",
    "        pre_angles = angles.copy()\n",
    "\n",
    "        for key in angles_to_remove:\n",
    "            if key in angles:\n",
    "                del angles[key]"
   ]
  },
  {
   "cell_type": "markdown",
   "metadata": {},
   "source": [
    "### **Create chain algorithm**\n",
    "\n",
    "The algorithm takes the angles dictionary, the direction which it is currently building the chain, the points it has visited, the current left\n",
    "\n",
    "and right chains and the list of all chains obtained so far.\n",
    "\n",
    "##### **How it works**\n",
    "\n",
    "Starts with an atom from the angles dictionary. The left and right chain contain already that atom in the first iteration, as does the visited \n",
    "\n",
    "list. According to the direction, it will search a combination for that atom and add it to the specific side corresponding to the direction the \n",
    "\n",
    "chain is right now being built. The combination has to be a valid one, which means if the left chain is for example `[1, 2, 3]` if the next \n",
    "\n",
    "atom that is being added to the chain is 4, the angle between 3->2 and 3->4 has to be valid to obtain `[1, 2, 3, 4]`. Every iteration it tests\n",
    "\n",
    "going left and right, and if it can't go either way, it returns the chain. If it can go both ways, it will create a new chain for each \n",
    " \n",
    "direction and add it to the list of chains. It will then call the algorithm again for each of the new chains, and so on."
   ]
  },
  {
   "cell_type": "code",
   "execution_count": 63,
   "metadata": {},
   "outputs": [],
   "source": [
    "def createChain(angles, direction, visited, left_chain, right_chain, chains):\n",
    "\n",
    "    last_left_atom = left_chain[len(left_chain)-1]\n",
    "    last_right_atom = right_chain[len(right_chain)-1]\n",
    "\n",
    "    if (len(angles) == len(visited)):\n",
    "        chains.append(left_chain[::-1] + right_chain[1:])\n",
    "        return\n",
    "    \n",
    "    # when direction is left we want to build the right chain and vice versa\n",
    "    if direction == \"left\":\n",
    "        for combination in angles[last_left_atom]:\n",
    "\n",
    "            second_to_last_atom = left_chain[len(left_chain)-2]\n",
    "            need_break = False\n",
    "\n",
    "\n",
    "            if second_to_last_atom not in combination:\n",
    "                continue\n",
    "\n",
    "            first_element_comb = combination[1]\n",
    "            second_element_comb = combination[2]\n",
    "            new_element = 0\n",
    "\n",
    "            if first_element_comb == second_to_last_atom:\n",
    "                new_element = second_element_comb\n",
    "            else:\n",
    "                new_element = first_element_comb\n",
    "\n",
    "            for i in range(1, 3):\n",
    "                if combination[i] in visited and second_to_last_atom != combination[i]:\n",
    "                    need_break = True\n",
    "            if need_break:\n",
    "                continue\n",
    "\n",
    "            left_chain.append(new_element)\n",
    "            visited.append(new_element)\n",
    "            createChain(angles, \"right\", visited, left_chain, right_chain, chains)\n",
    "            createChain(angles, \"left\", visited, left_chain, right_chain, chains)\n",
    "            left_chain = left_chain[0:len(left_chain)-1]\n",
    "            visited = visited[0:len(visited)-1]\n",
    "    else:\n",
    "        for combination in angles[last_right_atom]:\n",
    "                \n",
    "                second_to_last_atom = right_chain[len(right_chain)-2]\n",
    "                need_break = False\n",
    "    \n",
    "    \n",
    "                if second_to_last_atom not in combination:\n",
    "                    continue\n",
    "    \n",
    "                first_element_comb = combination[1]\n",
    "                second_element_comb = combination[2]\n",
    "                new_element = 0\n",
    "    \n",
    "                if first_element_comb == second_to_last_atom:\n",
    "                    new_element = second_element_comb\n",
    "                else:\n",
    "                    new_element = first_element_comb\n",
    "    \n",
    "                for i in range(1, 3):\n",
    "                    if combination[i] in visited and second_to_last_atom != combination[i]:\n",
    "                        need_break = True\n",
    "                if need_break:\n",
    "                    continue\n",
    "    \n",
    "                right_chain.append(new_element)\n",
    "                visited.append(new_element)\n",
    "                createChain(angles, \"left\", visited, left_chain, right_chain, chains)\n",
    "                createChain(angles, \"right\", visited, left_chain, right_chain, chains)\n",
    "                right_chain = right_chain[0:len(right_chain)-1]\n",
    "                visited = visited[0:len(visited)-1]\n",
    "            \n",
    "\n",
    "    chains.append(left_chain[::-1] + right_chain[1:])"
   ]
  },
  {
   "cell_type": "markdown",
   "metadata": {},
   "source": [
    "### **Complete algorithm**\n",
    "\n",
    "This function servers as a main function. It builds the chains according to every single previously defined algorithms. It starts building the\n",
    "\n",
    "chains, and finally returns the chain with the most points. That should correspond to the main alpha carbon chain."
   ]
  },
  {
   "cell_type": "code",
   "execution_count": 64,
   "metadata": {},
   "outputs": [
    {
     "name": "stdout",
     "output_type": "stream",
     "text": [
      "41\n",
      "[260, 297, 322, 320, 307, 255, 234, 165, 152, 110, 163, 143, 202, 223, 205, 189, 217, 243, 294, 301, 266, 256, 237, 203, 177, 160, 117, 83, 69, 63, 39, 19, 4, 3, 16, 27, 54, 72, 70, 44, 36]\n"
     ]
    }
   ],
   "source": [
    "                        \n",
    "def getChain(filename):\n",
    "\n",
    "    data = create_data(filename)\n",
    "    dist_matrix = create_distance_matrix(len(data))\n",
    "    fill_distance_matrix(dist_matrix, data)\n",
    "\n",
    "    potential_alpha_C = first_filter_alpha_carbon_data(dist_matrix, data)\n",
    "\n",
    "    # remove atoms that only have connections to each other.\n",
    "    second_filter_alpha_carbons(potential_alpha_C)\n",
    "\n",
    "    angles = create_angle_dict(potential_alpha_C, data)\n",
    "\n",
    "\n",
    "    # remove combinations that are not in the range of degrees\n",
    "    first_filter_angles(angles)\n",
    "    remove_empty_angles(angles)\n",
    "\n",
    "    second_filter_angles(angles)\n",
    "\n",
    "    # mash all the angles in a list\n",
    "    all_alpha_carbons = [key for key in angles]\n",
    "    # make every element in the list unique\n",
    "    all_alpha_carbons = list(dict.fromkeys(all_alpha_carbons))\n",
    "    \n",
    "    chains = []\n",
    "\n",
    "    max_len_chains = []\n",
    "    max_len_chain = []\n",
    "    max_len = 0\n",
    "\n",
    "    for atom in angles:\n",
    "\n",
    "        for combination in angles[atom]:\n",
    "            left_chain = [atom, combination[1]]\n",
    "            right_chain = [atom, combination[2]]\n",
    "            visited = [atom, combination[1], combination[2]]\n",
    "            createChain(angles, \"left\", visited.copy(), left_chain.copy(), right_chain.copy(), chains)\n",
    "            createChain(angles, \"right\", visited.copy(), left_chain.copy(), right_chain.copy(), chains)\n",
    "\n",
    "        for chain in chains:\n",
    "            if len(chain) > max_len:\n",
    "                max_len = len(chain)\n",
    "                max_len_chain = chain.copy()\n",
    "                max_len_chains = []\n",
    "            elif len(chain) == max_len:\n",
    "                max_len_chains.append(chain)\n",
    "        break;\n",
    "\n",
    "    print(len(list(set(max_len_chain))))\n",
    "\n",
    "    # delete repeated chains\n",
    "    chains_to_remove = []\n",
    "    for i in range(0, len(max_len_chains) - 1):\n",
    "        if max_len_chains[i] in max_len_chains[i+1:]:\n",
    "            chains_to_remove.append(max_len_chains[i])\n",
    "\n",
    "    for chain in chains_to_remove:\n",
    "        max_len_chains.remove(chain)\n",
    "\n",
    "    for chain in max_len_chains:\n",
    "        print(chain)\n",
    "        return chain, data\n",
    "\n",
    "\n",
    "chain, data = getChain('data_q2.txt')\n"
   ]
  },
  {
   "cell_type": "markdown",
   "metadata": {},
   "source": [
    "### **Plot the chain**"
   ]
  },
  {
   "cell_type": "code",
   "execution_count": 65,
   "metadata": {},
   "outputs": [
    {
     "data": {
      "image/png": "[encoded data removed]",
      "text/plain": [
       "<Figure size 640x480 with 1 Axes>"
      ]
     },
     "metadata": {},
     "output_type": "display_data"
    }
   ],
   "source": [
    "import matplotlib.pyplot as plt\n",
    "from mpl_toolkits.mplot3d import Axes3D\n",
    "\n",
    "def plot_chain(chain, data):\n",
    "    x = []\n",
    "    y = []\n",
    "    z = []\n",
    "\n",
    "    for element in chain:\n",
    "        x.append(data[element][0])\n",
    "        y.append(data[element][1])\n",
    "        z.append(data[element][2])\n",
    "\n",
    "    fig = plt.figure()\n",
    "    ax = fig.add_subplot(111, projection='3d')\n",
    "\n",
    "    ax.scatter(x, y, z, c='r', marker='o')\n",
    "\n",
    "    ax.set_xlabel('X Label')\n",
    "    ax.set_ylabel('Y Label')\n",
    "    ax.set_zlabel('Z Label')\n",
    "\n",
    "    for i in range(0, len(chain)-1):\n",
    "        ax.plot([x[i], x[i+1]], [y[i], y[i+1]], [z[i], z[i+1]], c='b')\n",
    "\n",
    "    plt.show()\n",
    "\n",
    "plot_chain(chain, data)"
   ]
  },
  {
   "cell_type": "markdown",
   "metadata": {},
   "source": [
    "### **Obtained chain**"
   ]
  },
  {
   "cell_type": "code",
   "execution_count": 66,
   "metadata": {},
   "outputs": [
    {
     "name": "stdout",
     "output_type": "stream",
     "text": [
      "260\n",
      "297\n",
      "322\n",
      "320\n",
      "307\n",
      "255\n",
      "234\n",
      "165\n",
      "152\n",
      "110\n",
      "163\n",
      "143\n",
      "202\n",
      "223\n",
      "205\n",
      "189\n",
      "217\n",
      "243\n",
      "294\n",
      "301\n",
      "266\n",
      "256\n",
      "237\n",
      "203\n",
      "177\n",
      "160\n",
      "117\n",
      "83\n",
      "69\n",
      "63\n",
      "39\n",
      "19\n",
      "4\n",
      "3\n",
      "16\n",
      "27\n",
      "54\n",
      "72\n",
      "70\n",
      "44\n",
      "36\n"
     ]
    }
   ],
   "source": [
    "for i in chain:\n",
    "    print(i)"
   ]
  }
 ],
 "metadata": {
  "kernelspec": {
   "display_name": "Python 3",
   "language": "python",
   "name": "python3"
  },
  "language_info": {
   "codemirror_mode": {
    "name": "ipython",
    "version": 3
   },
   "file_extension": ".py",
   "mimetype": "text/x-python",
   "name": "python",
   "nbconvert_exporter": "python",
   "pygments_lexer": "ipython3",
   "version": "3.11.4"
  }
 },
 "nbformat": 4,
 "nbformat_minor": 2
}
