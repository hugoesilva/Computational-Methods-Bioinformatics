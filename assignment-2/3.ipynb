{
 "cells": [
  {
   "cell_type": "markdown",
   "metadata": {},
   "source": [
    "## **Assignment 2 - Systems Biology**\n",
    "### **Hugo Manuel Alves Henriques e Silva, hugoalv@student.chalmers.se**\n",
    "\n",
    "#### **How to run:**\n",
    "`Run the cells below in order. Make sure to have the datasets in the same folder as the notebook.`"
   ]
  },
  {
   "cell_type": "markdown",
   "metadata": {},
   "source": [
    "## **Question 3**"
   ]
  },
  {
   "cell_type": "markdown",
   "metadata": {},
   "source": [
    "### **Problem Description & Assumptions**\n",
    "\n",
    "- We essentially can view this problem as having 2 networks. A network for the healthy cells and a network for the cancer ones.\n",
    "\n",
    "- The enzymes we can target are the enzymes that are essential for the cancer cells but non essential for the healthy ones. This mean that\n",
    "even if we target one of these enzymes, the cancer cells will die but the healthy ones will find an alternative way to survive.\n",
    "\n",
    "- A very important consideration was made for this problem. The enzymes with RNA count equal to zero in each cell are not considered,\n",
    "i. e., it is as if they do not exist in the respective cells. This is how we obtain the 2 networks which will be subsets of the\n",
    "original network from the previous question."
   ]
  },
  {
   "cell_type": "markdown",
   "metadata": {},
   "source": [
    "#### **Build the original network along with helpful sets**"
   ]
  },
  {
   "cell_type": "code",
   "execution_count": 73,
   "metadata": {},
   "outputs": [
    {
     "name": "stdout",
     "output_type": "stream",
     "text": [
      "{'Glucose [c]': [('Enzyme1', 'Glucose-6-phosphate [c]'), ('Enzyme33', 'ADP-Glucose [c]')], 'Glucose-6-phosphate [c]': [('Enzyme2', 'Fructose-6-phosphate [c]'), ('Enzyme26', '6-Phosphogluconolactone [c]')], 'Fructose-6-phosphate [c]': [('Enzyme2', 'Glucose-6-phosphate [c]'), ('Enzyme3', 'Fructose-1-6-phosphate [c]'), ('TALDO', 'Erythrose-4-phosphate [c]'), ('TKT', 'Erythrose-4-phosphate [c]'), ('TALDO', 'Seduheptulose-7-phosphate [c]'), ('TALDO', 'Glyceraldehyde 3-phosphate [c]'), ('TKT', 'Xylulose-5-phosphate [c]')], 'Fructose-1-6-phosphate [c]': [('Enzyme4', 'Dihydroxyacetone phosphate [c]'), ('Enzyme4', 'Glyceraldehyde 3-phosphate [c]')], 'Dihydroxyacetone phosphate [c]': [('Enzyme5', 'Glyceraldehyde 3-phosphate [c]')], 'Glyceraldehyde 3-phosphate [c]': [('Enzyme6', '1-3-Bisphosphoglycerate [c]'), ('TKT', 'Xylulose-5-phosphate [c]'), ('TKT', 'Ribose-5-phosphate [c]'), ('TKT', 'Seduheptulose-7-phosphate [c]'), ('TALDO', 'Seduheptulose-7-phosphate [c]'), ('TALDO', 'Fructose-6-phosphate [c]'), ('TALDO', 'Erythrose-4-phosphate [c]')], '1-3-Bisphosphoglycerate [c]': [('Enzyme7', 'Glyceraldehyde 3-phosphate [c]'), ('Enzyme8', '3-Phosphoglycerate [c]')], '3-Phosphoglycerate [c]': [('Enzyme9', '2-Phosphoglycerate [c]'), ('PseudoEnzymes', 'Serine'), ('PseudoEnzymes', 'Cysteine'), ('PseudoEnzymes', 'Glycine')], '2-Phosphoglycerate [c]': [('Enzyme9', '3-Phosphoglycerate [c]'), ('Enzyme10', 'Phosphoenolpyruvate [c]')], 'Phosphoenolpyruvate [c]': [('Enzyme10', '2-Phosphoglycerate [c]'), ('Enzyme11', 'Pyruvate [c]'), ('Enzyme23', 'Oxaloacetate [m]')], 'Pyruvate [c]': [('Enzyme12', 'Lactate [c]'), ('Enzyme13', 'Acetyl CoA [c]'), ('PseudoEnzymes', 'Alanine')], 'Pyruvate [m]': [('Enzyme12', 'Lactate [c]'), ('PseudoEnzymes', 'Alanine')], 'Acetyl CoA [c]': [('Enzyme14', 'Citrate [m]'), ('PseudoEnzymes', 'Fatty acids')], 'Citrate [m]': [('Enzyme15', 'Isocitrate [m]'), ('Transporter1', 'Citrate [c]')], 'Isocitrate [m]': [('Enzyme15', 'Citrate [m]'), ('Enzyme16', '2-Oxoglutarate [m]')], '2-Oxoglutarate [m]': [('Enzyme17', 'Succinate [m]'), ('Transporter2', '2-Oxoglutarate [c]'), ('PseudoEnzymes', 'Glutamine'), ('PseudoEnzymes', 'Glutamate')], 'Succinate [m]': [('Enzyme18', 'Fumarate [m]')], 'Fumarate [m]': [('Enzyme18', 'Succinate [m]'), ('Enzyme19', 'Malate [m]')], 'Malate [m]': [('Enzyme19', 'Fumarate [m]'), ('Enzyme20', 'Oxaloacetate [m]'), ('Enzyme25', 'Pyruvate [m]')], 'Oxaloacetate [m]': [('Enzyme20', 'Malate [m]'), ('Enzyme21', 'Citrate [m]'), ('PseudoEnzymes', 'Aspartate'), ('PseudoEnzymes', 'Asparagine')], 'Citrate [c]': [('Transporter1', 'Citrate [m]'), ('Enzyme22', 'Isocitrate [c]'), ('Enzyme24', 'Acetyl CoA [c]')], 'Isocitrate [c]': [('Enzyme22', 'Citrate [c]'), ('Enzyme16', '2-Oxoglutarate [c]')], '2-Oxoglutarate [c]': [('Transporter2', '2-Oxoglutarate [m]')], '6-Phosphogluconolactone [c]': [('Enzyme27', '6-Phosphogluconate [c]')], '6-Phosphogluconate [c]': [('Enzyme28', 'Ribulose-5-phosphate [c]')], 'Ribulose-5-phosphate [c]': [('Enzyme29', 'Xylulose-5-phosphate [c]'), ('Enzyme30', 'Ribose-5-phosphate [c]')], 'Xylulose-5-phosphate [c]': [('Enzyme31', 'Ribulose-5-phosphate [c]'), ('TKT', 'Fructose-6-phosphate [c]'), ('TKT', 'Glyceraldehyde 3-phosphate [c]'), ('TKT', 'Glyceraldehyde 3-phosphate [c]'), ('TKT', 'Ribose-5-phosphate [c]'), ('TKT', 'Seduheptulose-7-phosphate [c]')], 'Ribose-5-phosphate [c]': [('Enzyme32', 'Ribulose-5-phosphate [c]'), ('TKT', 'Xylulose-5-phosphate [c]'), ('TKT', 'Seduheptulose-7-phosphate [c]'), ('TKT', 'Glyceraldehyde 3-phosphate [c]'), ('PseudoEnzymes', 'Nucleotides')], 'Seduheptulose-7-phosphate [c]': [('TKT', 'Xylulose-5-phosphate [c]'), ('TKT', 'Glyceraldehyde 3-phosphate [c]'), ('TALDO', 'Glyceraldehyde 3-phosphate [c]'), ('TKT', 'Ribose-5-phosphate [c]'), ('TALDO', 'Erythrose-4-phosphate [c]'), ('TALDO', 'Fructose-6-phosphate [c]')], 'Erythrose-4-phosphate [c]': [('TKT', 'Xylulose-5-phosphate [c]'), ('TKT', 'Glyceraldehyde 3-phosphate [c]'), ('TALDO', 'Glyceraldehyde 3-phosphate [c]'), ('TALDO', 'Seduheptulose-7-phosphate [c]'), ('TKT', 'Fructose-6-phosphate [c]'), ('TALDO', 'Fructose-6-phosphate [c]')], 'ADP-Glucose [c]': [('Enzyme34', 'Glycogen [c]')], 'Glycogen [c]': [('Enzyme35', 'Glucose [c]')]}\n",
      "['Enzyme14', 'Enzyme9', 'Enzyme33', 'Enzyme26', 'Enzyme1', 'Enzyme13', 'Enzyme31', 'Enzyme21', 'Enzyme15', 'Enzyme27', 'Enzyme8', 'Enzyme34', 'Enzyme6', 'Enzyme5', 'Enzyme7', 'Enzyme29', 'Enzyme16', 'Enzyme18', 'Enzyme22', 'Enzyme28', 'Enzyme23', 'Enzyme35', 'Enzyme10', 'Transporter2', 'Enzyme25', 'Enzyme30', 'Enzyme17', 'Enzyme3', 'Enzyme4', 'Enzyme20', 'Enzyme19', 'PseudoEnzymes', 'Transporter1', 'TALDO', 'Enzyme2', 'Enzyme32', 'Enzyme11', 'Enzyme24', 'Enzyme12', 'TKT']\n",
      "['Glycine', 'Fatty acids', 'Cysteine', 'Serine', 'Glutamine', 'Glutamate', 'Aspartate', 'Nucleotides', 'Alanine', 'Asparagine']\n"
     ]
    }
   ],
   "source": [
    "# import data\n",
    "import pandas as pd\n",
    "df = pd.read_csv('RNAcounts.csv')\n",
    "df_network = pd.read_csv('ccm.csv')\n",
    "\n",
    "\n",
    "network = {}\n",
    "\n",
    "for i in range(len(df_network)):\n",
    "\n",
    "    from_metabolite = df_network.iloc[i]['From']\n",
    "    to_metabolite = df_network.iloc[i]['To']\n",
    "    enzyme = df_network.iloc[i]['Enzyme']\n",
    "\n",
    "    if from_metabolite not in network:\n",
    "        network[from_metabolite] = [(enzyme, to_metabolite)]\n",
    "    else:\n",
    "        network[from_metabolite].append((enzyme, to_metabolite))\n",
    "\n",
    "print(network)\n",
    "\n",
    "enzymes = []\n",
    "for metabolite in network:\n",
    "    for enzyme in network[metabolite]:\n",
    "        enzymes.append(enzyme[0])\n",
    "enzymes = list(set(enzymes))\n",
    "print(enzymes)\n",
    "\n",
    "# endpoints are \"to\" elements in the dataframe without [...] in the end of the string\n",
    "endpoints = []\n",
    "for i in range(len(df_network)):\n",
    "    if df_network.iloc[i]['To'][-1:] != ']':\n",
    "        endpoints.append(df_network.iloc[i]['To'])\n",
    "endpoints = list(set(endpoints))\n",
    "print(endpoints)"
   ]
  },
  {
   "cell_type": "markdown",
   "metadata": {},
   "source": [
    "#### **Build each of the networks**"
   ]
  },
  {
   "cell_type": "code",
   "execution_count": 74,
   "metadata": {},
   "outputs": [
    {
     "name": "stdout",
     "output_type": "stream",
     "text": [
      "['Enzyme12', 'Enzyme22', 'Enzyme24', 'Enzyme25', 'Enzyme26']\n",
      "{'Glucose [c]': [('Enzyme1', 'Glucose-6-phosphate [c]'), ('Enzyme33', 'ADP-Glucose [c]')], 'Glucose-6-phosphate [c]': [('Enzyme2', 'Fructose-6-phosphate [c]')], 'Fructose-6-phosphate [c]': [('Enzyme2', 'Glucose-6-phosphate [c]'), ('Enzyme3', 'Fructose-1-6-phosphate [c]'), ('TALDO', 'Erythrose-4-phosphate [c]'), ('TKT', 'Erythrose-4-phosphate [c]'), ('TALDO', 'Seduheptulose-7-phosphate [c]'), ('TALDO', 'Glyceraldehyde 3-phosphate [c]'), ('TKT', 'Xylulose-5-phosphate [c]')], 'Fructose-1-6-phosphate [c]': [('Enzyme4', 'Dihydroxyacetone phosphate [c]'), ('Enzyme4', 'Glyceraldehyde 3-phosphate [c]')], 'Dihydroxyacetone phosphate [c]': [('Enzyme5', 'Glyceraldehyde 3-phosphate [c]')], 'Glyceraldehyde 3-phosphate [c]': [('Enzyme6', '1-3-Bisphosphoglycerate [c]'), ('TKT', 'Xylulose-5-phosphate [c]'), ('TKT', 'Ribose-5-phosphate [c]'), ('TKT', 'Seduheptulose-7-phosphate [c]'), ('TALDO', 'Seduheptulose-7-phosphate [c]'), ('TALDO', 'Fructose-6-phosphate [c]'), ('TALDO', 'Erythrose-4-phosphate [c]')], '1-3-Bisphosphoglycerate [c]': [('Enzyme7', 'Glyceraldehyde 3-phosphate [c]'), ('Enzyme8', '3-Phosphoglycerate [c]')], '3-Phosphoglycerate [c]': [('Enzyme9', '2-Phosphoglycerate [c]'), ('PseudoEnzymes', 'Serine'), ('PseudoEnzymes', 'Cysteine'), ('PseudoEnzymes', 'Glycine')], '2-Phosphoglycerate [c]': [('Enzyme9', '3-Phosphoglycerate [c]'), ('Enzyme10', 'Phosphoenolpyruvate [c]')], 'Phosphoenolpyruvate [c]': [('Enzyme10', '2-Phosphoglycerate [c]'), ('Enzyme11', 'Pyruvate [c]'), ('Enzyme23', 'Oxaloacetate [m]')], 'Pyruvate [c]': [('Enzyme13', 'Acetyl CoA [c]'), ('PseudoEnzymes', 'Alanine')], 'Pyruvate [m]': [('PseudoEnzymes', 'Alanine')], 'Acetyl CoA [c]': [('Enzyme14', 'Citrate [m]'), ('PseudoEnzymes', 'Fatty acids')], 'Citrate [m]': [('Enzyme15', 'Isocitrate [m]'), ('Transporter1', 'Citrate [c]')], 'Isocitrate [m]': [('Enzyme15', 'Citrate [m]'), ('Enzyme16', '2-Oxoglutarate [m]')], '2-Oxoglutarate [m]': [('Enzyme17', 'Succinate [m]'), ('Transporter2', '2-Oxoglutarate [c]'), ('PseudoEnzymes', 'Glutamine'), ('PseudoEnzymes', 'Glutamate')], 'Succinate [m]': [('Enzyme18', 'Fumarate [m]')], 'Fumarate [m]': [('Enzyme18', 'Succinate [m]'), ('Enzyme19', 'Malate [m]')], 'Malate [m]': [('Enzyme19', 'Fumarate [m]'), ('Enzyme20', 'Oxaloacetate [m]')], 'Oxaloacetate [m]': [('Enzyme20', 'Malate [m]'), ('Enzyme21', 'Citrate [m]'), ('PseudoEnzymes', 'Aspartate'), ('PseudoEnzymes', 'Asparagine')], 'Citrate [c]': [('Transporter1', 'Citrate [m]')], 'Isocitrate [c]': [('Enzyme16', '2-Oxoglutarate [c]')], '2-Oxoglutarate [c]': [('Transporter2', '2-Oxoglutarate [m]')], '6-Phosphogluconolactone [c]': [('Enzyme27', '6-Phosphogluconate [c]')], '6-Phosphogluconate [c]': [('Enzyme28', 'Ribulose-5-phosphate [c]')], 'Ribulose-5-phosphate [c]': [('Enzyme29', 'Xylulose-5-phosphate [c]'), ('Enzyme30', 'Ribose-5-phosphate [c]')], 'Xylulose-5-phosphate [c]': [('Enzyme31', 'Ribulose-5-phosphate [c]'), ('TKT', 'Fructose-6-phosphate [c]'), ('TKT', 'Glyceraldehyde 3-phosphate [c]'), ('TKT', 'Glyceraldehyde 3-phosphate [c]'), ('TKT', 'Ribose-5-phosphate [c]'), ('TKT', 'Seduheptulose-7-phosphate [c]')], 'Ribose-5-phosphate [c]': [('Enzyme32', 'Ribulose-5-phosphate [c]'), ('TKT', 'Xylulose-5-phosphate [c]'), ('TKT', 'Seduheptulose-7-phosphate [c]'), ('TKT', 'Glyceraldehyde 3-phosphate [c]'), ('PseudoEnzymes', 'Nucleotides')], 'Seduheptulose-7-phosphate [c]': [('TKT', 'Xylulose-5-phosphate [c]'), ('TKT', 'Glyceraldehyde 3-phosphate [c]'), ('TALDO', 'Glyceraldehyde 3-phosphate [c]'), ('TKT', 'Ribose-5-phosphate [c]'), ('TALDO', 'Erythrose-4-phosphate [c]'), ('TALDO', 'Fructose-6-phosphate [c]')], 'Erythrose-4-phosphate [c]': [('TKT', 'Xylulose-5-phosphate [c]'), ('TKT', 'Glyceraldehyde 3-phosphate [c]'), ('TALDO', 'Glyceraldehyde 3-phosphate [c]'), ('TALDO', 'Seduheptulose-7-phosphate [c]'), ('TKT', 'Fructose-6-phosphate [c]'), ('TALDO', 'Fructose-6-phosphate [c]')], 'ADP-Glucose [c]': [('Enzyme34', 'Glycogen [c]')], 'Glycogen [c]': [('Enzyme35', 'Glucose [c]')]}\n",
      "['Enzyme13', 'Enzyme14', 'Enzyme15', 'Enzyme30']\n",
      "{'Glucose [c]': [('Enzyme1', 'Glucose-6-phosphate [c]'), ('Enzyme33', 'ADP-Glucose [c]')], 'Glucose-6-phosphate [c]': [('Enzyme2', 'Fructose-6-phosphate [c]'), ('Enzyme26', '6-Phosphogluconolactone [c]')], 'Fructose-6-phosphate [c]': [('Enzyme2', 'Glucose-6-phosphate [c]'), ('Enzyme3', 'Fructose-1-6-phosphate [c]'), ('TALDO', 'Erythrose-4-phosphate [c]'), ('TKT', 'Erythrose-4-phosphate [c]'), ('TALDO', 'Seduheptulose-7-phosphate [c]'), ('TALDO', 'Glyceraldehyde 3-phosphate [c]'), ('TKT', 'Xylulose-5-phosphate [c]')], 'Fructose-1-6-phosphate [c]': [('Enzyme4', 'Dihydroxyacetone phosphate [c]'), ('Enzyme4', 'Glyceraldehyde 3-phosphate [c]')], 'Dihydroxyacetone phosphate [c]': [('Enzyme5', 'Glyceraldehyde 3-phosphate [c]')], 'Glyceraldehyde 3-phosphate [c]': [('Enzyme6', '1-3-Bisphosphoglycerate [c]'), ('TKT', 'Xylulose-5-phosphate [c]'), ('TKT', 'Ribose-5-phosphate [c]'), ('TKT', 'Seduheptulose-7-phosphate [c]'), ('TALDO', 'Seduheptulose-7-phosphate [c]'), ('TALDO', 'Fructose-6-phosphate [c]'), ('TALDO', 'Erythrose-4-phosphate [c]')], '1-3-Bisphosphoglycerate [c]': [('Enzyme7', 'Glyceraldehyde 3-phosphate [c]'), ('Enzyme8', '3-Phosphoglycerate [c]')], '3-Phosphoglycerate [c]': [('Enzyme9', '2-Phosphoglycerate [c]'), ('PseudoEnzymes', 'Serine'), ('PseudoEnzymes', 'Cysteine'), ('PseudoEnzymes', 'Glycine')], '2-Phosphoglycerate [c]': [('Enzyme9', '3-Phosphoglycerate [c]'), ('Enzyme10', 'Phosphoenolpyruvate [c]')], 'Phosphoenolpyruvate [c]': [('Enzyme10', '2-Phosphoglycerate [c]'), ('Enzyme11', 'Pyruvate [c]'), ('Enzyme23', 'Oxaloacetate [m]')], 'Pyruvate [c]': [('Enzyme12', 'Lactate [c]'), ('PseudoEnzymes', 'Alanine')], 'Pyruvate [m]': [('Enzyme12', 'Lactate [c]'), ('PseudoEnzymes', 'Alanine')], 'Acetyl CoA [c]': [('PseudoEnzymes', 'Fatty acids')], 'Citrate [m]': [('Transporter1', 'Citrate [c]')], 'Isocitrate [m]': [('Enzyme16', '2-Oxoglutarate [m]')], '2-Oxoglutarate [m]': [('Enzyme17', 'Succinate [m]'), ('Transporter2', '2-Oxoglutarate [c]'), ('PseudoEnzymes', 'Glutamine'), ('PseudoEnzymes', 'Glutamate')], 'Succinate [m]': [('Enzyme18', 'Fumarate [m]')], 'Fumarate [m]': [('Enzyme18', 'Succinate [m]'), ('Enzyme19', 'Malate [m]')], 'Malate [m]': [('Enzyme19', 'Fumarate [m]'), ('Enzyme20', 'Oxaloacetate [m]'), ('Enzyme25', 'Pyruvate [m]')], 'Oxaloacetate [m]': [('Enzyme20', 'Malate [m]'), ('Enzyme21', 'Citrate [m]'), ('PseudoEnzymes', 'Aspartate'), ('PseudoEnzymes', 'Asparagine')], 'Citrate [c]': [('Transporter1', 'Citrate [m]'), ('Enzyme22', 'Isocitrate [c]'), ('Enzyme24', 'Acetyl CoA [c]')], 'Isocitrate [c]': [('Enzyme22', 'Citrate [c]'), ('Enzyme16', '2-Oxoglutarate [c]')], '2-Oxoglutarate [c]': [('Transporter2', '2-Oxoglutarate [m]')], '6-Phosphogluconolactone [c]': [('Enzyme27', '6-Phosphogluconate [c]')], '6-Phosphogluconate [c]': [('Enzyme28', 'Ribulose-5-phosphate [c]')], 'Ribulose-5-phosphate [c]': [('Enzyme29', 'Xylulose-5-phosphate [c]')], 'Xylulose-5-phosphate [c]': [('Enzyme31', 'Ribulose-5-phosphate [c]'), ('TKT', 'Fructose-6-phosphate [c]'), ('TKT', 'Glyceraldehyde 3-phosphate [c]'), ('TKT', 'Glyceraldehyde 3-phosphate [c]'), ('TKT', 'Ribose-5-phosphate [c]'), ('TKT', 'Seduheptulose-7-phosphate [c]')], 'Ribose-5-phosphate [c]': [('Enzyme32', 'Ribulose-5-phosphate [c]'), ('TKT', 'Xylulose-5-phosphate [c]'), ('TKT', 'Seduheptulose-7-phosphate [c]'), ('TKT', 'Glyceraldehyde 3-phosphate [c]'), ('PseudoEnzymes', 'Nucleotides')], 'Seduheptulose-7-phosphate [c]': [('TKT', 'Xylulose-5-phosphate [c]'), ('TKT', 'Glyceraldehyde 3-phosphate [c]'), ('TALDO', 'Glyceraldehyde 3-phosphate [c]'), ('TKT', 'Ribose-5-phosphate [c]'), ('TALDO', 'Erythrose-4-phosphate [c]'), ('TALDO', 'Fructose-6-phosphate [c]')], 'Erythrose-4-phosphate [c]': [('TKT', 'Xylulose-5-phosphate [c]'), ('TKT', 'Glyceraldehyde 3-phosphate [c]'), ('TALDO', 'Glyceraldehyde 3-phosphate [c]'), ('TALDO', 'Seduheptulose-7-phosphate [c]'), ('TKT', 'Fructose-6-phosphate [c]'), ('TALDO', 'Fructose-6-phosphate [c]')], 'ADP-Glucose [c]': [('Enzyme34', 'Glycogen [c]')], 'Glycogen [c]': [('Enzyme35', 'Glucose [c]')]}\n"
     ]
    }
   ],
   "source": [
    "#enzymes we can target\n",
    "data = {}\n",
    "for i in range(len(df)):\n",
    "    data[df.iloc[i]['Enzyme']] = (df.iloc[i][\"Cancer RNA count\"], df.iloc[i][\"Healthy RNA count\"])\n",
    "#put all the rows of the column 'Enzyme' in a list\n",
    "\n",
    "healthy_non_used_enzymes = []\n",
    "for i in data:\n",
    "    if data[i][1] == 0:\n",
    "        healthy_non_used_enzymes.append(i)\n",
    "\n",
    "print(healthy_non_used_enzymes)\n",
    "\n",
    "\n",
    "# need to create network for healthy cells:\n",
    "\n",
    "healthy_network = {}\n",
    "\n",
    "for metabolite in network:\n",
    "    for i in range(len(network[metabolite])):\n",
    "        if network[metabolite][i][0] not in healthy_non_used_enzymes:\n",
    "            if metabolite not in healthy_network:\n",
    "                healthy_network[metabolite] = [network[metabolite][i]]\n",
    "            else:\n",
    "                healthy_network[metabolite].append(network[metabolite][i])\n",
    "\n",
    "print(healthy_network)\n",
    "\n",
    "# need to create network for cancer cells:\n",
    "\n",
    "cancer_non_used_enzymes = []\n",
    "for i in data:\n",
    "    if data[i][0] == 0:\n",
    "        cancer_non_used_enzymes.append(i)\n",
    "\n",
    "print(cancer_non_used_enzymes)\n",
    "\n",
    "\n",
    "# need to create network for cancer cells:\n",
    "\n",
    "cancer_network = {}\n",
    "\n",
    "for metabolite in network:\n",
    "    for i in range(len(network[metabolite])):\n",
    "        if network[metabolite][i][0] not in cancer_non_used_enzymes:\n",
    "            if metabolite not in cancer_network:\n",
    "                cancer_network[metabolite] = [network[metabolite][i]]\n",
    "            else:\n",
    "                cancer_network[metabolite].append(network[metabolite][i])\n",
    "\n",
    "print(cancer_network)\n",
    "\n",
    "\n"
   ]
  },
  {
   "cell_type": "markdown",
   "metadata": {},
   "source": [
    "#### **Search Algorithm and other algorithms from previous question**"
   ]
  },
  {
   "cell_type": "code",
   "execution_count": 75,
   "metadata": {},
   "outputs": [],
   "source": [
    "def find_paths(metabolite, path, paths, visited, new_network):\n",
    "    visited = visited.copy()\n",
    "    if (metabolite in visited) and (visited[metabolite]):\n",
    "        return\n",
    "    \"\"\" print(\"metabolite and visited\", metabolite, visited) \"\"\"\n",
    "    if metabolite in endpoints:\n",
    "        if metabolite not in paths:\n",
    "            paths[metabolite] = [path]\n",
    "        else:\n",
    "            paths[metabolite].append(path)\n",
    "    elif metabolite not in new_network:\n",
    "        return\n",
    "    else:\n",
    "        if visited[metabolite]:\n",
    "            return\n",
    "\n",
    "            \n",
    "        for enzyme, product in new_network[metabolite]:\n",
    "            visited[metabolite] = True\n",
    "            find_paths(product, path + [(enzyme, product)], paths, visited, new_network)\n",
    "\n",
    "def find_non_essential_enzymes(paths):\n",
    "    non_used_enzymes_for_endpoint = {}\n",
    "    for endpoint in paths:\n",
    "        #find intersection of all the enzymes used in the paths to the endpoint\n",
    "        essential_enzymes = []\n",
    "        for element in paths[endpoint][0]:\n",
    "            essential_enzymes.append(element[0])\n",
    "\n",
    "        for path in paths[endpoint]:\n",
    "            new_essential_enzymes = []\n",
    "\n",
    "            for element in path:\n",
    "                new_essential_enzymes.append(element[0])\n",
    "\n",
    "            essential_enzymes = list(set(essential_enzymes).intersection(set(new_essential_enzymes)))\n",
    "\n",
    "        non_used_enzymes_for_endpoint[endpoint] = list(set(enzymes) - set(essential_enzymes))\n",
    "    return non_used_enzymes_for_endpoint\n",
    "\n",
    "def find_all_non_essential_enzymes(non_used_enzymes_for_endpoint):\n",
    "    all_non_used_enzymes = []\n",
    "\n",
    "    for endpoint in non_used_enzymes_for_endpoint:\n",
    "        all_non_used_enzymes += non_used_enzymes_for_endpoint[endpoint]\n",
    "    all_non_used_enzymes = list(set(all_non_used_enzymes))\n",
    "\n",
    "    for endpoint in non_used_enzymes_for_endpoint:\n",
    "        for e in all_non_used_enzymes:\n",
    "            if e not in non_used_enzymes_for_endpoint[endpoint]:\n",
    "                all_non_used_enzymes.remove(e)\n",
    "    return all_non_used_enzymes"
   ]
  },
  {
   "cell_type": "markdown",
   "metadata": {},
   "source": [
    "#### **Get essential and non-essential enzymes for eahc network**"
   ]
  },
  {
   "cell_type": "code",
   "execution_count": 76,
   "metadata": {},
   "outputs": [
    {
     "name": "stdout",
     "output_type": "stream",
     "text": [
      "all non essential enzymes for healthy cells:  ['Enzyme14', 'Enzyme33', 'Enzyme26', 'Enzyme31', 'Enzyme21', 'Enzyme27', 'Enzyme34', 'Enzyme5', 'Enzyme7', 'Enzyme29', 'Enzyme18', 'Enzyme28', 'Enzyme22', 'Enzyme23', 'Enzyme35', 'Transporter2', 'Enzyme25', 'Enzyme30', 'Enzyme17', 'Enzyme3', 'Enzyme4', 'Enzyme20', 'Enzyme19', 'Transporter1', 'TALDO', 'Enzyme32', 'Enzyme24', 'Enzyme12']\n",
      "all essential enzymes for healthy cells:  ['Enzyme1', 'Enzyme10', 'Enzyme11', 'Enzyme13', 'Enzyme15', 'Enzyme16', 'Enzyme2', 'Enzyme6', 'Enzyme8', 'Enzyme9', 'PseudoEnzymes', 'TKT']\n"
     ]
    }
   ],
   "source": [
    "healthy_paths = {}\n",
    "\n",
    "healthy_visited = {}\n",
    "for metabolite in healthy_network:\n",
    "    healthy_visited[metabolite] = False\n",
    "\n",
    "find_paths('Glucose [c]', [], healthy_paths, healthy_visited, healthy_network)\n",
    "\n",
    "healthy_non_essential_enzymes_for_endpoint = find_non_essential_enzymes(healthy_paths)\n",
    "\n",
    "healthy_non_essential_enzymes = find_all_non_essential_enzymes(healthy_non_essential_enzymes_for_endpoint)\n",
    "healthy_essential_enzymes = sorted(list(set(enzymes) - set(healthy_non_essential_enzymes)))\n",
    "\n",
    "\n",
    "print(\"all non essential enzymes for healthy cells: \", healthy_non_essential_enzymes)\n",
    "print(\"all essential enzymes for healthy cells: \", healthy_essential_enzymes)"
   ]
  },
  {
   "cell_type": "code",
   "execution_count": 77,
   "metadata": {},
   "outputs": [
    {
     "name": "stdout",
     "output_type": "stream",
     "text": [
      "all non essential enzymes for cancer cells:  ['Enzyme14', 'Enzyme33', 'Enzyme26', 'Enzyme13', 'Enzyme31', 'Enzyme15', 'Enzyme27', 'Enzyme34', 'Enzyme5', 'Enzyme7', 'Enzyme29', 'Enzyme18', 'Enzyme28', 'Enzyme35', 'Enzyme25', 'Enzyme30', 'Enzyme17', 'Enzyme3', 'Enzyme4', 'Enzyme20', 'Enzyme19', 'TALDO', 'Enzyme2', 'Enzyme32', 'Enzyme11', 'Enzyme12']\n",
      "all essential enzymes for cancer cells:  ['Enzyme1', 'Enzyme10', 'Enzyme16', 'Enzyme21', 'Enzyme22', 'Enzyme23', 'Enzyme24', 'Enzyme6', 'Enzyme8', 'Enzyme9', 'PseudoEnzymes', 'TKT', 'Transporter1', 'Transporter2']\n"
     ]
    }
   ],
   "source": [
    "cancer_paths = {}\n",
    "\n",
    "cancer_visited = {}\n",
    "for metabolite in cancer_network:\n",
    "    cancer_visited[metabolite] = False\n",
    "\n",
    "find_paths('Glucose [c]', [], cancer_paths, cancer_visited, cancer_network)\n",
    "\n",
    "cancer_non_essential_enzymes_for_endpoint = find_non_essential_enzymes(cancer_paths)\n",
    "\n",
    "cancer_non_essential_enzymes = find_all_non_essential_enzymes(cancer_non_essential_enzymes_for_endpoint)\n",
    "cancer_essential_enzymes = sorted(list(set(enzymes) - set(cancer_non_essential_enzymes)))\n",
    "\n",
    "\n",
    "print(\"all non essential enzymes for cancer cells: \", cancer_non_essential_enzymes)\n",
    "print(\"all essential enzymes for cancer cells: \", cancer_essential_enzymes)"
   ]
  },
  {
   "cell_type": "markdown",
   "metadata": {},
   "source": [
    "#### **Find enzymes to target**"
   ]
  },
  {
   "cell_type": "code",
   "execution_count": 78,
   "metadata": {},
   "outputs": [
    {
     "name": "stdout",
     "output_type": "stream",
     "text": [
      "target enzymes:  ['Enzyme21', 'Enzyme22', 'Transporter2', 'Transporter1', 'Enzyme24', 'Enzyme23']\n"
     ]
    }
   ],
   "source": [
    "# find the intersection between the essential enzymes for cancer cells and the non essential enzymes for healthy cells\n",
    "\n",
    "target_enzymes = list(set(healthy_non_essential_enzymes).intersection(set(cancer_essential_enzymes)))\n",
    "\n",
    "print(\"target enzymes: \", target_enzymes)\n"
   ]
  },
  {
   "cell_type": "markdown",
   "metadata": {},
   "source": [
    "**Enzymes to target are: Enzyme21, Enzyme22, Transporter2, Transporter1, Enzyme24, Enzyme23**"
   ]
  }
 ],
 "metadata": {
  "kernelspec": {
   "display_name": "Python 3",
   "language": "python",
   "name": "python3"
  },
  "language_info": {
   "codemirror_mode": {
    "name": "ipython",
    "version": 3
   },
   "file_extension": ".py",
   "mimetype": "text/x-python",
   "name": "python",
   "nbconvert_exporter": "python",
   "pygments_lexer": "ipython3",
   "version": "3.11.4"
  }
 },
 "nbformat": 4,
 "nbformat_minor": 2
}
