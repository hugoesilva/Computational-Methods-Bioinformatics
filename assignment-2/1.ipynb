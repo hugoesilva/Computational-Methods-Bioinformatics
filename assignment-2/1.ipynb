{
 "cells": [
  {
   "cell_type": "markdown",
   "metadata": {},
   "source": [
    "## **Assignment 2 - Systems Biology**\n",
    "### **Hugo Manuel Alves Henriques e Silva, hugoalv@student.chalmers.se**\n",
    "\n",
    "#### **How to run:**\n",
    "`Run the cells below in order. Make sure to have the datasets in the same folder as the notebook.`"
   ]
  },
  {
   "cell_type": "markdown",
   "metadata": {},
   "source": [
    "## **Question 1**"
   ]
  },
  {
   "cell_type": "markdown",
   "metadata": {},
   "source": [
    "### **Data & Network Building**\n",
    "\n",
    "- The data consists of a dictionary where the key is the name of the metabolite and the value is a list of tuples where the first element is \n",
    "  \n",
    "  the name of the enzyme that catalyzes the reaction and the second element is the resulting metabolite. It emulates a graph where the nodes \n",
    "  \n",
    "  are the metabolites and the edges are the reactions catalyzed by the enzymes."
   ]
  },
  {
   "cell_type": "code",
   "execution_count": 19,
   "metadata": {},
   "outputs": [],
   "source": [
    "network = {\n",
    "\n",
    "    'Glucose': [('Hexokinase', 'Glucose-6-phosphate')],\n",
    "\n",
    "    'Glucose-6-phosphate': [('Phosphoglucose isomerase', 'Fructose-6-phosphate')],\n",
    "\n",
    "    'Fructose-6-phosphate': [('Phosphofructokinase 1', 'Fructose-1,6-bisphosphate')],\n",
    "\n",
    "    'Fructose-1,6-bisphosphate': [\n",
    "\n",
    "        ('Aldolase', 'Glyceraldehyde 3-phosphate'),\n",
    "\n",
    "        ('Aldolase', 'Dihydroxyacetone phosphate')\n",
    "\n",
    "    ],\n",
    "\n",
    "    'Dihydroxyacetone phosphate': [('Triosephosphate isomerase', 'Glyceraldehyde 3-phosphate')],\n",
    "\n",
    "    'Glyceraldehyde 3-phosphate': [('Glyceraldehyde 3-phosphate dehydrogenase', '1,3-Bisphosphoglycerate')],\n",
    "\n",
    "    '1,3-Bisphosphoglycerate': [('Phosphoglycerate kinase', '3-Phosphoglycerate')],\n",
    "\n",
    "    '3-Phosphoglycerate': [('Phosphoglyceromutase', '2-Phosphoglycerate')],\n",
    "\n",
    "    '2-Phosphoglycerate': [('Enolase', 'Phosphoenolpyruvate')],\n",
    "\n",
    "    'Phosphoenolpyruvate': [('Pyruvate kinase', 'Pyruvate')]\n",
    "\n",
    "}\n",
    "\n",
    "enzymes = [\n",
    "    \n",
    "    'Hexokinase',\n",
    "\n",
    "    'Phosphoglucose isomerase',\n",
    "\n",
    "    'Phosphofructokinase 1',\n",
    "\n",
    "    'Aldolase',\n",
    "\n",
    "    'Triosephosphate isomerase',\n",
    "\n",
    "    'Glyceraldehyde 3-phosphate dehydrogenase',\n",
    "\n",
    "    'Phosphoglycerate kinase',\n",
    "\n",
    "    'Phosphoglyceromutase',\n",
    "\n",
    "    'Enolase',\n",
    "\n",
    "    'Pyruvate kinase'\n",
    "    \n",
    "]\n",
    "\n",
    "endpoints = [\"Pyruvate\"]"
   ]
  },
  {
   "cell_type": "markdown",
   "metadata": {},
   "source": [
    "### **Search & Filtering Algorithms**\n",
    "\n",
    "*Note: We only have 1 endpoint in this example, but a generalized algorithm was used.*\n",
    "\n",
    "- Search algorithm where all paths to endpoints are going to be explored - finds all paths to endpoints.\n",
    "\n",
    "- Filtering algorithm for non-essential enzymes for each endpoint - Finds the enzymes which are not used in every path to the endpoint.\n",
    "\n",
    "- Filtering algorithm for non-essential enzymes for all endpoints - Finds the intersection of non-essential enzymes for each endpoint."
   ]
  },
  {
   "cell_type": "code",
   "execution_count": 20,
   "metadata": {},
   "outputs": [],
   "source": [
    "def find_paths(metabolite, path, paths, visited):\n",
    "    visited = visited.copy()\n",
    "    if (metabolite in visited) and (visited[metabolite]):\n",
    "        return\n",
    "    if metabolite in endpoints:\n",
    "        if metabolite not in paths:\n",
    "            paths[metabolite] = [path]\n",
    "        else:\n",
    "            paths[metabolite].append(path)\n",
    "    elif metabolite not in network:\n",
    "        return\n",
    "    else:\n",
    "        if visited[metabolite]:\n",
    "            return\n",
    "\n",
    "            \n",
    "        for enzyme, product in network[metabolite]:\n",
    "            visited[metabolite] = True\n",
    "            find_paths(product, path + [(enzyme, product)], paths, visited)\n",
    "\n",
    "def find_non_essential_enzymes(paths):\n",
    "    non_used_enzymes_for_endpoint = {}\n",
    "    for endpoint in paths:\n",
    "        #find intersection of all the enzymes used in the paths to the endpoint\n",
    "        essential_enzymes = []\n",
    "        for element in paths[endpoint][0]:\n",
    "            essential_enzymes.append(element[0])\n",
    "\n",
    "        for path in paths[endpoint]:\n",
    "            new_essential_enzymes = []\n",
    "\n",
    "            for element in path:\n",
    "                new_essential_enzymes.append(element[0])\n",
    "\n",
    "            essential_enzymes = list(set(essential_enzymes).intersection(set(new_essential_enzymes)))\n",
    "\n",
    "        non_used_enzymes_for_endpoint[endpoint] = list(set(enzymes) - set(essential_enzymes))\n",
    "    return non_used_enzymes_for_endpoint\n",
    "\n",
    "def find_all_non_essential_enzymes(non_used_enzymes_for_endpoint):\n",
    "    all_non_used_enzymes = []\n",
    "\n",
    "    for endpoint in non_used_enzymes_for_endpoint:\n",
    "        all_non_used_enzymes += non_used_enzymes_for_endpoint[endpoint]\n",
    "    all_non_used_enzymes = list(set(all_non_used_enzymes))\n",
    "\n",
    "    for endpoint in non_used_enzymes_for_endpoint:\n",
    "        for e in all_non_used_enzymes:\n",
    "            if e not in non_used_enzymes_for_endpoint[endpoint]:\n",
    "                all_non_used_enzymes.remove(e)\n",
    "    return all_non_used_enzymes\n",
    "\n"
   ]
  },
  {
   "cell_type": "markdown",
   "metadata": {},
   "source": [
    "### **Results**\n",
    "\n",
    "Use the previously defined algorithms to find all the paths to our endpoint \"*Pyruvate*\" and filter the non-essential enzymes."
   ]
  },
  {
   "cell_type": "code",
   "execution_count": 21,
   "metadata": {},
   "outputs": [
    {
     "name": "stdout",
     "output_type": "stream",
     "text": [
      "['Triosephosphate isomerase']\n"
     ]
    }
   ],
   "source": [
    "paths = {}\n",
    "\n",
    "visited = {}\n",
    "for metabolite in network:\n",
    "    visited[metabolite] = False\n",
    "\n",
    "find_paths('Glucose', [], paths, visited)\n",
    "\n",
    "non_essential_enzymes_for_endpoint = find_non_essential_enzymes(paths)\n",
    "\n",
    "non_essential_enzymes = find_all_non_essential_enzymes(non_essential_enzymes_for_endpoint)\n",
    "\n",
    "print(non_essential_enzymes)"
   ]
  },
  {
   "cell_type": "markdown",
   "metadata": {},
   "source": [
    "### The non essential enzymes are:\n",
    "\n",
    "**Triosephosphate isomerase**\n",
    "\n"
   ]
  }
 ],
 "metadata": {
  "kernelspec": {
   "display_name": "Python 3",
   "language": "python",
   "name": "python3"
  },
  "language_info": {
   "codemirror_mode": {
    "name": "ipython",
    "version": 3
   },
   "file_extension": ".py",
   "mimetype": "text/x-python",
   "name": "python",
   "nbconvert_exporter": "python",
   "pygments_lexer": "ipython3",
   "version": "3.11.4"
  }
 },
 "nbformat": 4,
 "nbformat_minor": 2
}
