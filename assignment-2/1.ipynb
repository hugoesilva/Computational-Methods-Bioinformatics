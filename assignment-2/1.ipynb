{
 "cells": [
  {
   "cell_type": "markdown",
   "metadata": {},
   "source": [
    "## Assignment 2 - Systems Biology\n",
    "### Hugo Manuel Alves Henriques e Silva, hugoalv@student.chalmers.se"
   ]
  },
  {
   "cell_type": "markdown",
   "metadata": {},
   "source": [
    "## DATA\n",
    "\n",
    "<h>\n",
    "- The data consists of a dictionary where the key is the name of the metabolite and the value is a list of tuples where the first element is the name of the enzyme that catalyzes the reaction and the second element is the resulting metabolite.\n",
    "</h>"
   ]
  },
  {
   "cell_type": "code",
   "execution_count": 25,
   "metadata": {},
   "outputs": [],
   "source": [
    "metabolites_to_enzymes = {\n",
    "\n",
    "    'Glucose': [('Hexokinase', 'Glucose-6-phosphate')],\n",
    "\n",
    "    'Glucose-6-phosphate': [('Phosphoglucose isomerase', 'Fructose-6-phosphate')],\n",
    "\n",
    "    'Fructose-6-phosphate': [('Phosphofructokinase 1', 'Fructose-1,6-bisphosphate')],\n",
    "\n",
    "    'Fructose-1,6-bisphosphate': [\n",
    "\n",
    "        ('Aldolase', 'Glyceraldehyde 3-phosphate'),\n",
    "\n",
    "        ('Aldolase', 'Dihydroxyacetone phosphate')\n",
    "\n",
    "    ],\n",
    "\n",
    "    'Dihydroxyacetone phosphate': [('Triosephosphate isomerase', 'Glyceraldehyde 3-phosphate')],\n",
    "\n",
    "    'Glyceraldehyde 3-phosphate': [('Glyceraldehyde 3-phosphate dehydrogenase', '1,3-Bisphosphoglycerate')],\n",
    "\n",
    "    '1,3-Bisphosphoglycerate': [('Phosphoglycerate kinase', '3-Phosphoglycerate')],\n",
    "\n",
    "    '3-Phosphoglycerate': [('Phosphoglyceromutase', '2-Phosphoglycerate')],\n",
    "\n",
    "    '2-Phosphoglycerate': [('Enolase', 'Phosphoenolpyruvate')],\n",
    "\n",
    "    'Phosphoenolpyruvate': [('Pyruvate kinase', 'Pyruvate')]\n",
    "\n",
    "}\n",
    "\n",
    "enzymes = [\n",
    "    \n",
    "    'Hexokinase',\n",
    "\n",
    "    'Phosphoglucose isomerase',\n",
    "\n",
    "    'Phosphofructokinase 1',\n",
    "\n",
    "    'Aldolase',\n",
    "\n",
    "    'Triosephosphate isomerase',\n",
    "\n",
    "    'Glyceraldehyde 3-phosphate dehydrogenase',\n",
    "\n",
    "    'Phosphoglycerate kinase',\n",
    "\n",
    "    'Phosphoglyceromutase',\n",
    "\n",
    "    'Enolase',\n",
    "\n",
    "    'Pyruvate kinase'\n",
    "    \n",
    "]"
   ]
  },
  {
   "cell_type": "markdown",
   "metadata": {},
   "source": [
    "# Search Algorithm\n",
    "\n",
    "<h> Simple search algorithm where all paths to the final product are going to be explored. </h>"
   ]
  },
  {
   "cell_type": "code",
   "execution_count": 26,
   "metadata": {},
   "outputs": [],
   "source": [
    "# for the given data, lets find all the paths from Glucose to Pyruvate\n",
    "\n",
    "def find_paths(metabolite, path, paths):\n",
    "    if metabolite not in metabolites_to_enzymes:\n",
    "        paths.append(path)\n",
    "    else:\n",
    "        for enzyme, product in metabolites_to_enzymes[metabolite]:\n",
    "            find_paths(product, path + [enzyme], paths)\n",
    "\n"
   ]
  },
  {
   "cell_type": "markdown",
   "metadata": {},
   "source": [
    "## Results\n",
    "\n",
    "Use the algorithm for our data and find all the paths to Pyruvate. After finding all the paths, go through all the enzymes and find the ones that are not in the paths to Pyruvate. These are the non essential enzymes, given that they are not present in at least one path to the final product."
   ]
  },
  {
   "cell_type": "code",
   "execution_count": 27,
   "metadata": {},
   "outputs": [
    {
     "name": "stdout",
     "output_type": "stream",
     "text": [
      "['Triosephosphate isomerase']\n"
     ]
    }
   ],
   "source": [
    "paths = []\n",
    "\n",
    "find_paths('Glucose', [], paths)\n",
    "\n",
    "unused_enzymes = []\n",
    "\n",
    "for enz in enzymes:\n",
    "    for path in paths:\n",
    "        if enz not in path:\n",
    "            unused_enzymes.append(enz)\n",
    "\n",
    "print(unused_enzymes)"
   ]
  },
  {
   "cell_type": "markdown",
   "metadata": {},
   "source": [
    "### The non essential enzymes are:\n",
    "\n",
    "**Triosephosphate isomerase**\n",
    "\n"
   ]
  }
 ],
 "metadata": {
  "kernelspec": {
   "display_name": "Python 3",
   "language": "python",
   "name": "python3"
  },
  "language_info": {
   "codemirror_mode": {
    "name": "ipython",
    "version": 3
   },
   "file_extension": ".py",
   "mimetype": "text/x-python",
   "name": "python",
   "nbconvert_exporter": "python",
   "pygments_lexer": "ipython3",
   "version": "3.11.4"
  }
 },
 "nbformat": 4,
 "nbformat_minor": 2
}
