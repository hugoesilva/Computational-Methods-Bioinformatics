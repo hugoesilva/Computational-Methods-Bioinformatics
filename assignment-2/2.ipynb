{
 "cells": [
  {
   "cell_type": "markdown",
   "metadata": {},
   "source": [
    "## **Assignment 2 - Systems Biology**\n",
    "### **Hugo Manuel Alves Henriques e Silva, hugoalv@student.chalmers.se**\n",
    "\n",
    "#### **How to run:**\n",
    "`Run the cells below in order. Make sure to have the datasets in the same folder as the notebook.`"
   ]
  },
  {
   "cell_type": "markdown",
   "metadata": {},
   "source": [
    "## **Question 2**"
   ]
  },
  {
   "cell_type": "markdown",
   "metadata": {},
   "source": [
    "### **Procedure**\n",
    "\n",
    "- Find every possible path for every single product\n",
    "  \n",
    "- Find all the non essential enzymes for each product\n",
    "  \n",
    "- Mash all the non essential enzymes together\n",
    "  \n",
    "- Find the intersection of all the non essential enzymes (an enzyme may be essential for one product but not for another)\n",
    "  \n",
    "- Remove the non essential enzymes from the list of all enzymes and get the **ESSENTIAL** ones"
   ]
  },
  {
   "cell_type": "markdown",
   "metadata": {},
   "source": [
    "#### **Import dataset**"
   ]
  },
  {
   "cell_type": "code",
   "execution_count": 61,
   "metadata": {},
   "outputs": [
    {
     "data": {
      "text/html": [
       "<div>\n",
       "<style scoped>\n",
       "    .dataframe tbody tr th:only-of-type {\n",
       "        vertical-align: middle;\n",
       "    }\n",
       "\n",
       "    .dataframe tbody tr th {\n",
       "        vertical-align: top;\n",
       "    }\n",
       "\n",
       "    .dataframe thead th {\n",
       "        text-align: right;\n",
       "    }\n",
       "</style>\n",
       "<table border=\"1\" class=\"dataframe\">\n",
       "  <thead>\n",
       "    <tr style=\"text-align: right;\">\n",
       "      <th></th>\n",
       "      <th>From</th>\n",
       "      <th>To</th>\n",
       "      <th>Enzyme</th>\n",
       "    </tr>\n",
       "  </thead>\n",
       "  <tbody>\n",
       "    <tr>\n",
       "      <th>0</th>\n",
       "      <td>Glucose [c]</td>\n",
       "      <td>Glucose-6-phosphate [c]</td>\n",
       "      <td>Enzyme1</td>\n",
       "    </tr>\n",
       "    <tr>\n",
       "      <th>1</th>\n",
       "      <td>Glucose-6-phosphate [c]</td>\n",
       "      <td>Fructose-6-phosphate [c]</td>\n",
       "      <td>Enzyme2</td>\n",
       "    </tr>\n",
       "    <tr>\n",
       "      <th>2</th>\n",
       "      <td>Fructose-6-phosphate [c]</td>\n",
       "      <td>Glucose-6-phosphate [c]</td>\n",
       "      <td>Enzyme2</td>\n",
       "    </tr>\n",
       "    <tr>\n",
       "      <th>3</th>\n",
       "      <td>Fructose-6-phosphate [c]</td>\n",
       "      <td>Fructose-1-6-phosphate [c]</td>\n",
       "      <td>Enzyme3</td>\n",
       "    </tr>\n",
       "    <tr>\n",
       "      <th>4</th>\n",
       "      <td>Fructose-1-6-phosphate [c]</td>\n",
       "      <td>Dihydroxyacetone phosphate [c]</td>\n",
       "      <td>Enzyme4</td>\n",
       "    </tr>\n",
       "  </tbody>\n",
       "</table>\n",
       "</div>"
      ],
      "text/plain": [
       "                         From                              To   Enzyme\n",
       "0                 Glucose [c]         Glucose-6-phosphate [c]  Enzyme1\n",
       "1     Glucose-6-phosphate [c]        Fructose-6-phosphate [c]  Enzyme2\n",
       "2    Fructose-6-phosphate [c]         Glucose-6-phosphate [c]  Enzyme2\n",
       "3    Fructose-6-phosphate [c]      Fructose-1-6-phosphate [c]  Enzyme3\n",
       "4  Fructose-1-6-phosphate [c]  Dihydroxyacetone phosphate [c]  Enzyme4"
      ]
     },
     "execution_count": 61,
     "metadata": {},
     "output_type": "execute_result"
    }
   ],
   "source": [
    "import pandas as pd\n",
    "df = pd.read_csv('ccm.csv')\n",
    "df.head()"
   ]
  },
  {
   "cell_type": "markdown",
   "metadata": {},
   "source": [
    "#### **Build network and other helpful sets**"
   ]
  },
  {
   "cell_type": "code",
   "execution_count": 62,
   "metadata": {},
   "outputs": [
    {
     "name": "stdout",
     "output_type": "stream",
     "text": [
      "['Enzyme33', 'TKT', 'Enzyme16', 'Enzyme3', 'Enzyme26', 'Enzyme34', 'Enzyme35', 'PseudoEnzymes', 'Enzyme9', 'Enzyme24', 'Enzyme30', 'Enzyme17', 'Enzyme31', 'Enzyme14', 'Enzyme19', 'Enzyme6', 'Enzyme2', 'Enzyme4', 'Enzyme25', 'Enzyme7', 'Enzyme11', 'Enzyme10', 'Enzyme32', 'Enzyme18', 'Enzyme5', 'Enzyme13', 'Enzyme23', 'Enzyme12', 'Enzyme28', 'Enzyme8', 'Enzyme27', 'Transporter2', 'Enzyme20', 'TALDO', 'Enzyme21', 'Enzyme1', 'Enzyme22', 'Enzyme29', 'Transporter1', 'Enzyme15']\n",
      "['Nucleotides', 'Glutamate', 'Glycine', 'Aspartate', 'Serine', 'Alanine', 'Asparagine', 'Glutamine', 'Cysteine', 'Fatty acids']\n"
     ]
    }
   ],
   "source": [
    "network = {}\n",
    "\n",
    "for i in range(len(df)):\n",
    "\n",
    "    from_metabolite = df.iloc[i]['From']\n",
    "    to_metabolite = df.iloc[i]['To']\n",
    "    enzyme = df.iloc[i]['Enzyme']\n",
    "    \n",
    "    if from_metabolite not in network:\n",
    "        network[from_metabolite] = [(enzyme, to_metabolite)]\n",
    "    else:\n",
    "        network[from_metabolite].append((enzyme, to_metabolite))\n",
    "\n",
    "enzymes = []\n",
    "for metabolite in network:\n",
    "    for enzyme in network[metabolite]:\n",
    "        enzymes.append(enzyme[0])\n",
    "enzymes = list(set(enzymes))\n",
    "print(enzymes)\n",
    "\n",
    "# endpoints are \"to\" elements in the dataframe without [...] in the end of the string\n",
    "endpoints = []\n",
    "for i in range(len(df)):\n",
    "    if df.iloc[i]['To'][-1:] != ']':\n",
    "        endpoints.append(df.iloc[i]['To'])\n",
    "endpoints = list(set(endpoints))\n",
    "print(endpoints)"
   ]
  },
  {
   "cell_type": "markdown",
   "metadata": {},
   "source": [
    "#### **Search Algorithm**"
   ]
  },
  {
   "cell_type": "code",
   "execution_count": 63,
   "metadata": {},
   "outputs": [],
   "source": [
    "def find_paths(metabolite, path, paths, visited):\n",
    "    # create a new visited list\n",
    "    visited = visited.copy()\n",
    "    if (metabolite in visited) and (visited[metabolite]):\n",
    "        return\n",
    "    if metabolite in endpoints:\n",
    "        if metabolite not in paths:\n",
    "            paths[metabolite] = [path]\n",
    "        else:\n",
    "            paths[metabolite].append(path)\n",
    "    elif metabolite not in network:\n",
    "        return\n",
    "    else:\n",
    "        if visited[metabolite]:\n",
    "            return\n",
    "\n",
    "            \n",
    "        for enzyme, product in network[metabolite]:\n",
    "            visited[metabolite] = True\n",
    "            find_paths(product, path + [(enzyme, product)], paths, visited)"
   ]
  },
  {
   "cell_type": "markdown",
   "metadata": {},
   "source": [
    "#### **Filtering Algorithm for non-essential enzymes for each endpoint**"
   ]
  },
  {
   "cell_type": "code",
   "execution_count": 64,
   "metadata": {},
   "outputs": [],
   "source": [
    "def find_non_essential_enzymes(paths):\n",
    "    non_used_enzymes_for_endpoint = {}\n",
    "    for endpoint in paths:\n",
    "        #find intersection of all the enzymes used in the paths to the endpoint\n",
    "        essential_enzymes = []\n",
    "        for element in paths[endpoint][0]:\n",
    "            essential_enzymes.append(element[0])\n",
    "\n",
    "        for path in paths[endpoint]:\n",
    "            new_essential_enzymes = []\n",
    "\n",
    "            for element in path:\n",
    "                new_essential_enzymes.append(element[0])\n",
    "\n",
    "            essential_enzymes = list(set(essential_enzymes).intersection(set(new_essential_enzymes)))\n",
    "\n",
    "        non_used_enzymes_for_endpoint[endpoint] = list(set(enzymes) - set(essential_enzymes))\n",
    "    return non_used_enzymes_for_endpoint"
   ]
  },
  {
   "cell_type": "markdown",
   "metadata": {},
   "source": [
    "#### **Filtering Algorithm for non-essential enzyme for all endpoints**"
   ]
  },
  {
   "cell_type": "code",
   "execution_count": 65,
   "metadata": {},
   "outputs": [],
   "source": [
    "def find_all_non_essential_enzymes(non_used_enzymes_for_endpoint):\n",
    "    all_non_used_enzymes = []\n",
    "\n",
    "    for endpoint in non_used_enzymes_for_endpoint:\n",
    "        all_non_used_enzymes += non_used_enzymes_for_endpoint[endpoint]\n",
    "    all_non_used_enzymes = list(set(all_non_used_enzymes))\n",
    "\n",
    "    for endpoint in non_used_enzymes_for_endpoint:\n",
    "        for e in all_non_used_enzymes:\n",
    "            if e not in non_used_enzymes_for_endpoint[endpoint]:\n",
    "                all_non_used_enzymes.remove(e)\n",
    "    return all_non_used_enzymes"
   ]
  },
  {
   "cell_type": "markdown",
   "metadata": {},
   "source": [
    "#### **Application of all algorithms with our dataset**"
   ]
  },
  {
   "cell_type": "code",
   "execution_count": 66,
   "metadata": {},
   "outputs": [
    {
     "name": "stdout",
     "output_type": "stream",
     "text": [
      "all non essential enzymes:  ['Enzyme33', 'TKT', 'Enzyme3', 'Enzyme26', 'Enzyme34', 'Enzyme35', 'Enzyme24', 'Enzyme30', 'Enzyme17', 'Enzyme31', 'Enzyme14', 'Enzyme19', 'Enzyme25', 'Enzyme2', 'Enzyme4', 'Enzyme7', 'Enzyme11', 'Enzyme32', 'Enzyme18', 'Enzyme5', 'Enzyme13', 'Enzyme23', 'Enzyme12', 'Enzyme28', 'Enzyme27', 'Transporter2', 'Enzyme20', 'TALDO', 'Enzyme21', 'Enzyme22', 'Enzyme29', 'Transporter1', 'Enzyme15']\n",
      "all essential enzymes are:  ['Enzyme1', 'Enzyme10', 'Enzyme16', 'Enzyme6', 'Enzyme8', 'Enzyme9', 'PseudoEnzymes']\n"
     ]
    }
   ],
   "source": [
    "paths = {}\n",
    "\n",
    "visited = {}\n",
    "for metabolite in network:\n",
    "    visited[metabolite] = False\n",
    "\n",
    "find_paths('Glucose [c]', [], paths, visited)\n",
    "\n",
    "non_essential_enzymes_for_endpoint = find_non_essential_enzymes(paths)\n",
    "\n",
    "non_essential_enzymes = find_all_non_essential_enzymes(non_essential_enzymes_for_endpoint)\n",
    "\n",
    "\n",
    "print(\"all non essential enzymes: \", non_essential_enzymes)\n",
    "print(\"all essential enzymes are: \", sorted(list(set(enzymes) - set(non_essential_enzymes))))"
   ]
  },
  {
   "cell_type": "markdown",
   "metadata": {},
   "source": [
    "**The essential enzymes are Enzyme1, Enzyme10, Enzyme16, Enzyme6, Enzyme8, Enzyme9, PseudoEnzymes.**"
   ]
  }
 ],
 "metadata": {
  "kernelspec": {
   "display_name": "Python 3",
   "language": "python",
   "name": "python3"
  },
  "language_info": {
   "codemirror_mode": {
    "name": "ipython",
    "version": 3
   },
   "file_extension": ".py",
   "mimetype": "text/x-python",
   "name": "python",
   "nbconvert_exporter": "python",
   "pygments_lexer": "ipython3",
   "version": "3.11.4"
  }
 },
 "nbformat": 4,
 "nbformat_minor": 2
}
